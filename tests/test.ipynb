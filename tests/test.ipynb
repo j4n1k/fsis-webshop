{
 "cells": [
  {
   "cell_type": "code",
   "execution_count": 15,
   "metadata": {},
   "outputs": [],
   "source": [
    "import pandas as pd \n",
    "from datetime import datetime\n",
    "from sklearn.preprocessing import StandardScaler, MinMaxScaler\n",
    "import tensorflow as tf\n",
    "import numpy as np\n",
    "import math\n",
    "import pickle\n",
    "from sklearn.preprocessing import OneHotEncoder\n",
    "import requests"
   ]
  },
  {
   "cell_type": "code",
   "execution_count": 2,
   "metadata": {},
   "outputs": [
    {
     "data": {
      "text/plain": [
       "13"
      ]
     },
     "execution_count": 2,
     "metadata": {},
     "output_type": "execute_result"
    }
   ],
   "source": [
    "dt = datetime.now()\n",
    "dt.hour"
   ]
  },
  {
   "cell_type": "code",
   "execution_count": null,
   "metadata": {},
   "outputs": [],
   "source": [
    "#df_main = pd.read_csv(\"../data/df_main.csv\")\n",
    "#df_products = pd.read_csv(\"/Users/janikbischoff/Documents/Uni/MLog/Semester 1/FSIS/webshop/data/df_product_table.csv\")\n"
   ]
  },
  {
   "cell_type": "code",
   "execution_count": 54,
   "metadata": {},
   "outputs": [],
   "source": [
    "import sqlite3\n",
    "\n",
    "def get_db_connection():\n",
    "    conn = sqlite3.connect('/Users/janikbischoff/Documents/Uni/MLog/Semester 1/FSIS/webshop/database.db')\n",
    "    conn.row_factory = sqlite3.Row\n",
    "    return conn\n",
    "\n",
    "conn = get_db_connection()\n",
    "products = conn.execute('SELECT * FROM cart').fetchall()\n",
    "\n",
    "conn.close()"
   ]
  },
  {
   "cell_type": "code",
   "execution_count": 31,
   "metadata": {},
   "outputs": [],
   "source": [
    "with open('/Users/janikbischoff/Documents/Uni/MLog/Semester 1/FSIS/api/data/mappings/name_mapping.pickle', 'rb') as handle:\n",
    "    name_mapping = pickle.load(handle)\n",
    "with open('/Users/janikbischoff/Documents/Uni/MLog/Semester 1/FSIS/api/data/mappings/zip_customer_mapping.pickle', 'rb') as handle:\n",
    "    zip_customer_mapping = pickle.load(handle)\n",
    "with open('/Users/janikbischoff/Documents/Uni/MLog/Semester 1/FSIS/api/data/mappings/customer_state_mapping.pickle', 'rb') as handle:\n",
    "    customer_state_mapping = pickle.load(handle)\n",
    "with open('/Users/janikbischoff/Documents/Uni/MLog/Semester 1/FSIS/api/data/mappings/zip_seller_mapping.pickle', 'rb') as handle:\n",
    "    zip_seller_mapping = pickle.load(handle)\n",
    "with open('/Users/janikbischoff/Documents/Uni/MLog/Semester 1/FSIS/api/data/mappings/seller_state_mapping.pickle', 'rb') as handle:\n",
    "    seller_state_mapping = pickle.load(handle)\n",
    "\n"
   ]
  },
  {
   "cell_type": "code",
   "execution_count": 32,
   "metadata": {},
   "outputs": [],
   "source": [
    "KEY = \"bf698b456ad4cebada870914b2021fab\"\n",
    "def construct_api_call(query):\n",
    "    url = f\"http://api.positionstack.com/v1/forward?access_key={KEY}&query={query}\"\n",
    "    r = requests.get(url)\n",
    "    body = r.json()\n",
    "    #body[\"data\"][0][\"latitude\"]\n",
    "    #body[\"data\"][0][\"longitude\"]\n",
    "    try: \n",
    "        return [body[\"data\"][0][\"latitude\"], body[\"data\"][0][\"longitude\"]]\n",
    "    except:\n",
    "        return np.nan"
   ]
  },
  {
   "cell_type": "code",
   "execution_count": 33,
   "metadata": {},
   "outputs": [],
   "source": [
    "def get_manhatten_distance(customer, seller):\n",
    "    R = 6371000.785 \n",
    "\n",
    "    phi_1 = customer[0] * (math.pi / 180)\n",
    "    phi_2 = seller[0] * (math.pi / 180)\n",
    "    delta_phi = (seller[0] - customer[0]) * (math.pi / 180)\n",
    "    delta_lamda = (seller[1] - customer[1]) * (math.pi / 180)\n",
    "\n",
    "    a = math.sin(delta_phi / 2) * math.sin(delta_phi / 2) + math.cos(phi_1) * math.cos(phi_2) * math.sin(delta_lamda/2) * math.sin(delta_lamda/2)\n",
    "    \n",
    "    c = 2 * math.atan2(math.sqrt(a), math.sqrt(1 - a))\n",
    "\n",
    "    d = R * c\n",
    "    \n",
    "    return d / 1000"
   ]
  },
  {
   "cell_type": "code",
   "execution_count": 34,
   "metadata": {},
   "outputs": [],
   "source": [
    "def get_model_params(products, location):\n",
    "    \"\"\"\n",
    "        product_category_name\t[x]\n",
    "        customer_zip_code\t[x]\n",
    "        customer_state\t[x]\n",
    "        seller_zip_code\t[x]\n",
    "        seller_state\t[x]\n",
    "        order_weekday   [x]\n",
    "\n",
    "        item_count\t[x]\n",
    "        price\t[x]\n",
    "        freight_value [x]\t\n",
    "        product_weight_g [x]\t\n",
    "        product_volume_cm^3 [x]\t\n",
    "        delivery_distance\t[x]\n",
    "        order_hour_of_day [x]\n",
    "    \"\"\"\n",
    "    columns_num = [\"item_count\", \"price\", \"freight_value\", \"product_weight_g\", \"product_volume_cm^3\", \"delivery_distance\", \"order_hour_of_day\"]\n",
    "    df_num = pd.DataFrame(columns=columns_num)\n",
    "    columns_cat = [\"product_category_name\", \"customer_zip_code\", \"customer_state\", \"seller_zip_code\", \"seller_state\", \"order_weekday\"]\n",
    "    df_cat = pd.DataFrame(columns=columns_cat)\n",
    "    \n",
    "    dt = datetime.now()\n",
    "    order_weekday = dt.weekday()\n",
    "    names = [row[\"product_name\"] for row in products]\n",
    "    customer_zip_code = location[0]\n",
    "    customer_state = location[1]\n",
    "    customer_city = location[2]\n",
    "    seller_zip = 7070\n",
    "    seller_city = \"guarulhos\"\n",
    "    seller_state = \"SP\"\n",
    "    \n",
    "    names_labeled = [name_mapping[name] for name in names]\n",
    "    customer_zip_code_labeled = zip_customer_mapping[customer_zip_code]\n",
    "    customer_state_labeled = customer_state_mapping[customer_state]\n",
    "    seller_zip_labeled = zip_seller_mapping[seller_zip]\n",
    "    seller_state_labeled = seller_state_mapping[seller_state]\n",
    "\n",
    "    for item in range(len(names)):\n",
    "        row = {\"product_category_name\":names_labeled[item], \"customer_zip_code\":customer_zip_code_labeled, \"customer_state\":customer_state_labeled, \"seller_zip_code\":seller_zip_labeled, \n",
    "                \"seller_state\":seller_state_labeled, \"order_weekday\":order_weekday}\n",
    "        add_row = pd.Series(row)\n",
    "        \n",
    "        df_cat = df_cat.append(add_row, ignore_index=True)\n",
    "    df_labeled = df_cat\n",
    "\n",
    "    c_0 = df_labeled[['product_category_name']].values\n",
    "    c_0 = np.asarray(c_0).astype('float32')\n",
    "\n",
    "    c_1 = df_labeled[['customer_zip_code']].values\n",
    "    c_1 = np.asarray(c_1).astype('float32')\n",
    "\n",
    "    c_2 = df_labeled[['customer_state']].values\n",
    "    c_2 = np.asarray(c_2).astype('float32')\n",
    "\n",
    "    c_3 = df_labeled[['seller_zip_code']].values\n",
    "    c_3 = np.asarray(c_3).astype('float32')\n",
    "\n",
    "    c_4 = df_labeled[['seller_state']].values\n",
    "    c_4 = np.asarray(c_4).astype('float32')\n",
    "\n",
    "    c_5 = df_labeled[['order_weekday']].values\n",
    "    c_5 = np.asarray(c_5).astype('float32')\n",
    "\n",
    "    item_count = len(products)\n",
    "    prices = [row[\"product_price\"] for row in products]\n",
    "    weights = [row[\"product_weight_g\"] for row in products]\n",
    "    volumes = [row[\"product_volume_cm3\"] for row in products]\n",
    "    order_hour_of_day = dt.hour\n",
    "    query_seller = f\"{seller_zip}, {seller_city}\"\n",
    "    query_customer = f\"{customer_zip_code}, {customer_city}\"\n",
    "    lat_lon_customer = construct_api_call(query_seller)\n",
    "    lat_lon_seller = construct_api_call(query_customer)\n",
    "    distance = get_manhatten_distance(lat_lon_customer, lat_lon_seller)\n",
    "    for item in range(len(prices)):\n",
    "        row = {\"item_count\":item_count, \"price\":prices[item], \"freight_value\":23, \"product_weight_g\":weights[item], \n",
    "                \"product_volume_cm^3\":volumes[item], \"delivery_distance\":distance, \"order_hour_of_day\":order_hour_of_day}\n",
    "        add_row = pd.Series(row)\n",
    "        \n",
    "        df_num = df_num.append(add_row, ignore_index=True)\n",
    "    \n",
    "    #print(df_num)\n",
    "    ss = StandardScaler()\n",
    "    x_standardized = ss.fit_transform(df_num)\n",
    "    X = x_standardized\n",
    "    X = np.asarray(X).astype('float32')\n",
    "    #print(X)\n",
    "    \n",
    "   \n",
    "    return {\"cat_input_0\": c_0, \"cat_input_1\": c_1, \"cat_input_2\": c_2, \"cat_input_3\": c_3,\"cat_input_4\": c_4, \"cat_input_5\": c_5,\"numeric_inputs\": X}\n",
    "    \n"
   ]
  },
  {
   "cell_type": "code",
   "execution_count": 47,
   "metadata": {},
   "outputs": [
    {
     "name": "stdout",
     "output_type": "stream",
     "text": [
      "2\n"
     ]
    }
   ],
   "source": [
    "print(len(products))"
   ]
  },
  {
   "cell_type": "code",
   "execution_count": 36,
   "metadata": {},
   "outputs": [],
   "source": [
    "model = tf.keras.models.load_model(\"/Users/janikbischoff/Documents/Uni/MLog/Semester 1/FSIS/api/data/models/31days_all.h5\")"
   ]
  },
  {
   "cell_type": "code",
   "execution_count": 37,
   "metadata": {},
   "outputs": [],
   "source": [
    "pickle_in = open(\"/Users/janikbischoff/Documents/Uni/MLog/Semester 1/FSIS/api/data/y.pickle\", \"rb\")\n",
    "df_y = pickle.load(pickle_in)\n",
    "y = df_y.to_numpy()"
   ]
  },
  {
   "cell_type": "code",
   "execution_count": 38,
   "metadata": {},
   "outputs": [],
   "source": [
    "enc = OneHotEncoder(handle_unknown='ignore')\n",
    "y = y.reshape(-1,1)\n",
    "enc.fit(y)\n",
    "target = enc.transform(y).toarray()"
   ]
  },
  {
   "cell_type": "code",
   "execution_count": 39,
   "metadata": {},
   "outputs": [
    {
     "data": {
      "text/plain": [
       "array([[0., 0., 0., ..., 0., 0., 0.],\n",
       "       [0., 0., 0., ..., 0., 0., 0.],\n",
       "       [0., 0., 0., ..., 0., 0., 1.],\n",
       "       ...,\n",
       "       [0., 0., 0., ..., 0., 0., 0.],\n",
       "       [0., 0., 0., ..., 0., 0., 0.],\n",
       "       [0., 0., 0., ..., 0., 0., 0.]])"
      ]
     },
     "execution_count": 39,
     "metadata": {},
     "output_type": "execute_result"
    }
   ],
   "source": [
    "target"
   ]
  },
  {
   "cell_type": "code",
   "execution_count": 63,
   "metadata": {},
   "outputs": [
    {
     "name": "stderr",
     "output_type": "stream",
     "text": [
      "/var/folders/r6/_64zz3zd7f51md31zxq08wnw0000gn/T/ipykernel_42322/1540951238.py:44: FutureWarning: The frame.append method is deprecated and will be removed from pandas in a future version. Use pandas.concat instead.\n",
      "  df_cat = df_cat.append(add_row, ignore_index=True)\n",
      "/var/folders/r6/_64zz3zd7f51md31zxq08wnw0000gn/T/ipykernel_42322/1540951238.py:44: FutureWarning: The frame.append method is deprecated and will be removed from pandas in a future version. Use pandas.concat instead.\n",
      "  df_cat = df_cat.append(add_row, ignore_index=True)\n",
      "/var/folders/r6/_64zz3zd7f51md31zxq08wnw0000gn/T/ipykernel_42322/1540951238.py:80: FutureWarning: The frame.append method is deprecated and will be removed from pandas in a future version. Use pandas.concat instead.\n",
      "  df_num = df_num.append(add_row, ignore_index=True)\n",
      "/var/folders/r6/_64zz3zd7f51md31zxq08wnw0000gn/T/ipykernel_42322/1540951238.py:80: FutureWarning: The frame.append method is deprecated and will be removed from pandas in a future version. Use pandas.concat instead.\n",
      "  df_num = df_num.append(add_row, ignore_index=True)\n"
     ]
    }
   ],
   "source": [
    "location = [28013,\"RJ\",\"campos dos goytacazes\"]\n",
    "#location = [8215,\"SP\",\"sao paulo\"]\n",
    "inputs = get_model_params(products, location)"
   ]
  },
  {
   "cell_type": "code",
   "execution_count": 64,
   "metadata": {},
   "outputs": [],
   "source": [
    "predictions = model.predict(\n",
    "    inputs\n",
    "    )"
   ]
  },
  {
   "cell_type": "code",
   "execution_count": 65,
   "metadata": {},
   "outputs": [
    {
     "data": {
      "text/plain": [
       "array([[0.0000000e+00, 5.8119139e-14, 1.7184641e-10, 5.3685188e-08,\n",
       "        4.0669011e-06, 7.4056315e-06, 6.7654262e-05, 7.3501629e-05,\n",
       "        9.9056587e-04, 1.3502575e-01, 9.7665153e-02, 2.8944531e-01,\n",
       "        4.2383406e-02, 4.7076669e-02, 1.3335454e-03, 2.3682502e-03,\n",
       "        4.7577035e-02, 2.9649070e-01, 3.1440472e-03, 1.7491801e-02,\n",
       "        1.2737321e-03, 2.3618997e-04, 5.3231151e-06, 2.0039151e-03,\n",
       "        5.3140870e-03, 8.9565273e-03, 6.1075122e-04, 1.5840599e-06,\n",
       "        4.1007882e-04, 1.4691510e-07, 9.2471837e-06, 3.3567041e-05],\n",
       "       [0.0000000e+00, 3.0917547e-16, 1.0559834e-12, 1.9988429e-08,\n",
       "        2.7693420e-06, 2.2500735e-05, 1.3085015e-04, 2.4735567e-05,\n",
       "        1.0061805e-04, 1.3340817e-01, 1.9856870e-01, 5.1885498e-01,\n",
       "        3.9035087e-03, 6.2125283e-03, 6.9636321e-06, 5.3377312e-06,\n",
       "        6.4104106e-03, 1.2423170e-01, 3.3184758e-04, 3.0195594e-03,\n",
       "        4.5494608e-06, 2.1747142e-06, 3.2679623e-08, 2.2364642e-04,\n",
       "        2.0008897e-04, 4.3076021e-03, 2.0843425e-05, 1.0370468e-09,\n",
       "        4.3059276e-07, 4.3686352e-10, 1.3376224e-07, 5.2487967e-06]],\n",
       "      dtype=float32)"
      ]
     },
     "execution_count": 65,
     "metadata": {},
     "output_type": "execute_result"
    }
   ],
   "source": [
    "predictions"
   ]
  },
  {
   "cell_type": "code",
   "execution_count": 66,
   "metadata": {},
   "outputs": [],
   "source": [
    "check = predictions.round()\n",
    "b = np.zeros_like(predictions)\n",
    "b[np.arange(len(predictions)), predictions.argmax(1)] = 1"
   ]
  },
  {
   "cell_type": "code",
   "execution_count": 67,
   "metadata": {},
   "outputs": [],
   "source": [
    "etas = enc.inverse_transform(b)"
   ]
  },
  {
   "cell_type": "code",
   "execution_count": 68,
   "metadata": {},
   "outputs": [
    {
     "data": {
      "text/plain": [
       "array([[17],\n",
       "       [11]])"
      ]
     },
     "execution_count": 68,
     "metadata": {},
     "output_type": "execute_result"
    }
   ],
   "source": [
    "etas"
   ]
  },
  {
   "cell_type": "code",
   "execution_count": 61,
   "metadata": {},
   "outputs": [
    {
     "data": {
      "text/plain": [
       "11"
      ]
     },
     "execution_count": 61,
     "metadata": {},
     "output_type": "execute_result"
    }
   ],
   "source": [
    "etas.ravel()[0]"
   ]
  }
 ],
 "metadata": {
  "interpreter": {
   "hash": "23d5c8732c6c52c9887089766e49cc773bd69cc284deedb200daf554a76cb162"
  },
  "kernelspec": {
   "display_name": "Python 3.9.7 ('base')",
   "language": "python",
   "name": "python3"
  },
  "language_info": {
   "codemirror_mode": {
    "name": "ipython",
    "version": 3
   },
   "file_extension": ".py",
   "mimetype": "text/x-python",
   "name": "python",
   "nbconvert_exporter": "python",
   "pygments_lexer": "ipython3",
   "version": "3.9.7"
  },
  "orig_nbformat": 4
 },
 "nbformat": 4,
 "nbformat_minor": 2
}
